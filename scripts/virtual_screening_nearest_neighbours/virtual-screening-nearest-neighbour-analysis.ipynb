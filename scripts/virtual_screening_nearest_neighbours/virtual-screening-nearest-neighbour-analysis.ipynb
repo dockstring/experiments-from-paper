{
 "cells": [
  {
   "cell_type": "markdown",
   "id": "41cc649f-3d02-4296-88b7-a6c35db6694b",
   "metadata": {},
   "source": [
    "# Analysis for virtual screening\n",
    "\n",
    "To get the final enrichment factor, just run the first 2 cells and then the last cell."
   ]
  },
  {
   "cell_type": "code",
   "execution_count": 1,
   "id": "d3f9472c-4c42-48eb-b51d-0c92e70c631e",
   "metadata": {},
   "outputs": [],
   "source": [
    "import numpy as np\n",
    "import pandas as pd\n",
    "from matplotlib import pyplot as plt\n",
    "from rdkit import Chem\n",
    "from rdkit.Chem import QED, Crippen, Draw\n",
    "import json\n",
    "import math\n",
    "from pathlib import Path\n",
    "\n",
    "import collections\n",
    "from tqdm import tqdm"
   ]
  },
  {
   "cell_type": "code",
   "execution_count": 2,
   "id": "ce75f0f0-2bf5-4503-ae87-76f0faaba267",
   "metadata": {},
   "outputs": [],
   "source": [
    "cache_dir = Path(\"../official_results/virtual-screening/fingerprint-nearest-neighbours\").absolute()\n",
    "cache_dir.mkdir(exist_ok=True)"
   ]
  },
  {
   "cell_type": "markdown",
   "id": "0241329c-6ec9-4889-b262-4de0c4ef3980",
   "metadata": {},
   "source": [
    "# Load dockstring dataset, create active lists"
   ]
  },
  {
   "cell_type": "code",
   "execution_count": 3,
   "id": "4e7d65e3-f80b-4ea1-8c10-86dfdd906c96",
   "metadata": {},
   "outputs": [
    {
     "data": {
      "text/html": [
       "<div>\n",
       "<style scoped>\n",
       "    .dataframe tbody tr th:only-of-type {\n",
       "        vertical-align: middle;\n",
       "    }\n",
       "\n",
       "    .dataframe tbody tr th {\n",
       "        vertical-align: top;\n",
       "    }\n",
       "\n",
       "    .dataframe thead th {\n",
       "        text-align: right;\n",
       "    }\n",
       "</style>\n",
       "<table border=\"1\" class=\"dataframe\">\n",
       "  <thead>\n",
       "    <tr style=\"text-align: right;\">\n",
       "      <th></th>\n",
       "      <th>inchikey</th>\n",
       "      <th>smiles</th>\n",
       "      <th>PPARD</th>\n",
       "      <th>ABL1</th>\n",
       "      <th>ADAM17</th>\n",
       "      <th>ADRB1</th>\n",
       "      <th>ADRB2</th>\n",
       "      <th>AKT2</th>\n",
       "      <th>MAOB</th>\n",
       "      <th>CASP3</th>\n",
       "      <th>...</th>\n",
       "      <th>GBA</th>\n",
       "      <th>MAPK1</th>\n",
       "      <th>MAPK14</th>\n",
       "      <th>PLK1</th>\n",
       "      <th>SRC</th>\n",
       "      <th>THRB</th>\n",
       "      <th>F2</th>\n",
       "      <th>KDR</th>\n",
       "      <th>logP</th>\n",
       "      <th>QED</th>\n",
       "    </tr>\n",
       "  </thead>\n",
       "  <tbody>\n",
       "    <tr>\n",
       "      <th>0</th>\n",
       "      <td>UMVWYQXKBPJMOF-UHFFFAOYNA-N</td>\n",
       "      <td>C1=C(C2=C(C=C1O)OC(C(C2=O)=O)C3=CC=C(C(=C3)O)O)O</td>\n",
       "      <td>-8.2</td>\n",
       "      <td>-9.1</td>\n",
       "      <td>-9.0</td>\n",
       "      <td>-9.3</td>\n",
       "      <td>-9.7</td>\n",
       "      <td>-8.7</td>\n",
       "      <td>-8.4</td>\n",
       "      <td>-7.2</td>\n",
       "      <td>...</td>\n",
       "      <td>-9.1</td>\n",
       "      <td>-9.3</td>\n",
       "      <td>-8.3</td>\n",
       "      <td>-9.0</td>\n",
       "      <td>-8.4</td>\n",
       "      <td>-8.8</td>\n",
       "      <td>-8.2</td>\n",
       "      <td>-8.0</td>\n",
       "      <td>1.39450</td>\n",
       "      <td>0.463229</td>\n",
       "    </tr>\n",
       "    <tr>\n",
       "      <th>1</th>\n",
       "      <td>NGOGFTYYXHNFQH-UHFFFAOYNA-N</td>\n",
       "      <td>O=S(=O)(N1CCNCCC1)C2=CC=CC=3C2=CC=NC3</td>\n",
       "      <td>-7.1</td>\n",
       "      <td>-9.5</td>\n",
       "      <td>-7.0</td>\n",
       "      <td>-7.6</td>\n",
       "      <td>-7.7</td>\n",
       "      <td>-8.2</td>\n",
       "      <td>-6.3</td>\n",
       "      <td>-6.1</td>\n",
       "      <td>...</td>\n",
       "      <td>-8.0</td>\n",
       "      <td>-8.3</td>\n",
       "      <td>-6.9</td>\n",
       "      <td>-8.6</td>\n",
       "      <td>-7.7</td>\n",
       "      <td>-8.1</td>\n",
       "      <td>-6.8</td>\n",
       "      <td>-7.4</td>\n",
       "      <td>1.21880</td>\n",
       "      <td>0.903457</td>\n",
       "    </tr>\n",
       "    <tr>\n",
       "      <th>2</th>\n",
       "      <td>BGVLELSCIHASRV-QPEQYQDCNA-N</td>\n",
       "      <td>C=1C=C2S/C(/N(CC)C2=CC1OC)=C\\C(=O)C</td>\n",
       "      <td>-6.6</td>\n",
       "      <td>-7.4</td>\n",
       "      <td>-5.9</td>\n",
       "      <td>-7.0</td>\n",
       "      <td>-7.0</td>\n",
       "      <td>-7.1</td>\n",
       "      <td>-6.9</td>\n",
       "      <td>-5.5</td>\n",
       "      <td>...</td>\n",
       "      <td>-6.4</td>\n",
       "      <td>-7.1</td>\n",
       "      <td>-6.3</td>\n",
       "      <td>-7.0</td>\n",
       "      <td>-6.2</td>\n",
       "      <td>-7.9</td>\n",
       "      <td>-5.8</td>\n",
       "      <td>-6.2</td>\n",
       "      <td>3.05760</td>\n",
       "      <td>0.770003</td>\n",
       "    </tr>\n",
       "    <tr>\n",
       "      <th>3</th>\n",
       "      <td>KTUFNOKKBVMGRW-RPGFEBOUNA-N</td>\n",
       "      <td>C=1(N=C(C=2C=NC=CC2)C=CN1)NC=3C=C(NC(C4=CC=C(C...</td>\n",
       "      <td>-10.8</td>\n",
       "      <td>-10.2</td>\n",
       "      <td>-11.0</td>\n",
       "      <td>-10.4</td>\n",
       "      <td>-11.5</td>\n",
       "      <td>-11.0</td>\n",
       "      <td>-3.3</td>\n",
       "      <td>-9.4</td>\n",
       "      <td>...</td>\n",
       "      <td>-9.3</td>\n",
       "      <td>-10.2</td>\n",
       "      <td>-8.8</td>\n",
       "      <td>-10.4</td>\n",
       "      <td>-9.5</td>\n",
       "      <td>-7.4</td>\n",
       "      <td>-9.7</td>\n",
       "      <td>-11.4</td>\n",
       "      <td>4.59032</td>\n",
       "      <td>0.389416</td>\n",
       "    </tr>\n",
       "    <tr>\n",
       "      <th>4</th>\n",
       "      <td>LLJRXVHJOJRCSM-UHFFFAOYNA-N</td>\n",
       "      <td>C1=CC=2C(=CNC2C=C1)C=3C=CN=CC3</td>\n",
       "      <td>-7.7</td>\n",
       "      <td>-8.6</td>\n",
       "      <td>-7.4</td>\n",
       "      <td>-8.4</td>\n",
       "      <td>-8.2</td>\n",
       "      <td>-7.7</td>\n",
       "      <td>-7.9</td>\n",
       "      <td>-6.2</td>\n",
       "      <td>...</td>\n",
       "      <td>-7.7</td>\n",
       "      <td>-8.0</td>\n",
       "      <td>-7.8</td>\n",
       "      <td>-7.9</td>\n",
       "      <td>-6.8</td>\n",
       "      <td>-8.5</td>\n",
       "      <td>-6.6</td>\n",
       "      <td>-7.8</td>\n",
       "      <td>3.22990</td>\n",
       "      <td>0.632617</td>\n",
       "    </tr>\n",
       "    <tr>\n",
       "      <th>...</th>\n",
       "      <td>...</td>\n",
       "      <td>...</td>\n",
       "      <td>...</td>\n",
       "      <td>...</td>\n",
       "      <td>...</td>\n",
       "      <td>...</td>\n",
       "      <td>...</td>\n",
       "      <td>...</td>\n",
       "      <td>...</td>\n",
       "      <td>...</td>\n",
       "      <td>...</td>\n",
       "      <td>...</td>\n",
       "      <td>...</td>\n",
       "      <td>...</td>\n",
       "      <td>...</td>\n",
       "      <td>...</td>\n",
       "      <td>...</td>\n",
       "      <td>...</td>\n",
       "      <td>...</td>\n",
       "      <td>...</td>\n",
       "      <td>...</td>\n",
       "    </tr>\n",
       "    <tr>\n",
       "      <th>260150</th>\n",
       "      <td>DWPVTFJKTGBFRK-UHFFFAOYNA-N</td>\n",
       "      <td>ClC1=CC(S(=O)(=O)N2N=NC=3C2=CC=CC3)=C(OCC)C=C1</td>\n",
       "      <td>-7.5</td>\n",
       "      <td>-9.0</td>\n",
       "      <td>-7.8</td>\n",
       "      <td>-8.1</td>\n",
       "      <td>-8.4</td>\n",
       "      <td>-7.8</td>\n",
       "      <td>-7.4</td>\n",
       "      <td>-6.9</td>\n",
       "      <td>...</td>\n",
       "      <td>-8.2</td>\n",
       "      <td>-8.3</td>\n",
       "      <td>-7.3</td>\n",
       "      <td>-8.2</td>\n",
       "      <td>-7.6</td>\n",
       "      <td>-8.7</td>\n",
       "      <td>-7.8</td>\n",
       "      <td>-7.8</td>\n",
       "      <td>2.72040</td>\n",
       "      <td>0.731436</td>\n",
       "    </tr>\n",
       "    <tr>\n",
       "      <th>260151</th>\n",
       "      <td>GZKYOKRGPTXXIJ-YAQRNVERNA-N</td>\n",
       "      <td>ClC=1C=CC(C(=O)NN=C2CCCC2)=CC1</td>\n",
       "      <td>-8.1</td>\n",
       "      <td>-8.6</td>\n",
       "      <td>-8.0</td>\n",
       "      <td>-8.1</td>\n",
       "      <td>-8.1</td>\n",
       "      <td>-7.3</td>\n",
       "      <td>-8.5</td>\n",
       "      <td>-6.3</td>\n",
       "      <td>...</td>\n",
       "      <td>-8.0</td>\n",
       "      <td>-7.6</td>\n",
       "      <td>-7.0</td>\n",
       "      <td>-8.2</td>\n",
       "      <td>-7.0</td>\n",
       "      <td>-8.3</td>\n",
       "      <td>-7.2</td>\n",
       "      <td>-8.2</td>\n",
       "      <td>2.99980</td>\n",
       "      <td>0.788400</td>\n",
       "    </tr>\n",
       "    <tr>\n",
       "      <th>260152</th>\n",
       "      <td>SFJOYBYSPNCEKG-UHFFFAOYNA-N</td>\n",
       "      <td>O=C1N(C(=O)N(C2=C3N(C(=C21)C4=CC=CC=C4)C=5C(N=...</td>\n",
       "      <td>-8.9</td>\n",
       "      <td>-10.3</td>\n",
       "      <td>-9.6</td>\n",
       "      <td>-11.5</td>\n",
       "      <td>-7.7</td>\n",
       "      <td>-8.9</td>\n",
       "      <td>-6.3</td>\n",
       "      <td>-8.9</td>\n",
       "      <td>...</td>\n",
       "      <td>-8.7</td>\n",
       "      <td>-8.8</td>\n",
       "      <td>-8.2</td>\n",
       "      <td>-10.9</td>\n",
       "      <td>-9.1</td>\n",
       "      <td>-6.3</td>\n",
       "      <td>-9.2</td>\n",
       "      <td>-7.5</td>\n",
       "      <td>4.68052</td>\n",
       "      <td>0.388036</td>\n",
       "    </tr>\n",
       "    <tr>\n",
       "      <th>260153</th>\n",
       "      <td>QUXNNXZZXGGGPV-UHFFFAOYNA-N</td>\n",
       "      <td>O=C(N1C=2C(C(=C1)C(OC)=O)=CC=CC2)C3=CC(=C(C=C3...</td>\n",
       "      <td>-9.6</td>\n",
       "      <td>-9.3</td>\n",
       "      <td>-9.1</td>\n",
       "      <td>-9.3</td>\n",
       "      <td>-9.7</td>\n",
       "      <td>-8.0</td>\n",
       "      <td>-8.8</td>\n",
       "      <td>-7.9</td>\n",
       "      <td>...</td>\n",
       "      <td>-8.8</td>\n",
       "      <td>-8.6</td>\n",
       "      <td>-8.3</td>\n",
       "      <td>-9.2</td>\n",
       "      <td>-8.7</td>\n",
       "      <td>-11.1</td>\n",
       "      <td>-7.7</td>\n",
       "      <td>-7.0</td>\n",
       "      <td>3.73324</td>\n",
       "      <td>0.677728</td>\n",
       "    </tr>\n",
       "    <tr>\n",
       "      <th>260154</th>\n",
       "      <td>NSBRTZWGPKKXMR-VWLVSYDUNA-N</td>\n",
       "      <td>O=C1NC[C@@H](N2C1=C(N=C2)C(=O)NC3=CC(=CC=C3)C)C</td>\n",
       "      <td>-8.4</td>\n",
       "      <td>-10.2</td>\n",
       "      <td>-8.5</td>\n",
       "      <td>-8.5</td>\n",
       "      <td>-9.1</td>\n",
       "      <td>-8.8</td>\n",
       "      <td>-9.6</td>\n",
       "      <td>-7.7</td>\n",
       "      <td>...</td>\n",
       "      <td>-8.8</td>\n",
       "      <td>-8.6</td>\n",
       "      <td>-8.3</td>\n",
       "      <td>-8.7</td>\n",
       "      <td>-8.1</td>\n",
       "      <td>-9.7</td>\n",
       "      <td>-8.0</td>\n",
       "      <td>-8.9</td>\n",
       "      <td>1.74822</td>\n",
       "      <td>0.881750</td>\n",
       "    </tr>\n",
       "  </tbody>\n",
       "</table>\n",
       "<p>260155 rows × 62 columns</p>\n",
       "</div>"
      ],
      "text/plain": [
       "                           inchikey  \\\n",
       "0       UMVWYQXKBPJMOF-UHFFFAOYNA-N   \n",
       "1       NGOGFTYYXHNFQH-UHFFFAOYNA-N   \n",
       "2       BGVLELSCIHASRV-QPEQYQDCNA-N   \n",
       "3       KTUFNOKKBVMGRW-RPGFEBOUNA-N   \n",
       "4       LLJRXVHJOJRCSM-UHFFFAOYNA-N   \n",
       "...                             ...   \n",
       "260150  DWPVTFJKTGBFRK-UHFFFAOYNA-N   \n",
       "260151  GZKYOKRGPTXXIJ-YAQRNVERNA-N   \n",
       "260152  SFJOYBYSPNCEKG-UHFFFAOYNA-N   \n",
       "260153  QUXNNXZZXGGGPV-UHFFFAOYNA-N   \n",
       "260154  NSBRTZWGPKKXMR-VWLVSYDUNA-N   \n",
       "\n",
       "                                                   smiles  PPARD  ABL1  \\\n",
       "0        C1=C(C2=C(C=C1O)OC(C(C2=O)=O)C3=CC=C(C(=C3)O)O)O   -8.2  -9.1   \n",
       "1                   O=S(=O)(N1CCNCCC1)C2=CC=CC=3C2=CC=NC3   -7.1  -9.5   \n",
       "2                     C=1C=C2S/C(/N(CC)C2=CC1OC)=C\\C(=O)C   -6.6  -7.4   \n",
       "3       C=1(N=C(C=2C=NC=CC2)C=CN1)NC=3C=C(NC(C4=CC=C(C...  -10.8 -10.2   \n",
       "4                          C1=CC=2C(=CNC2C=C1)C=3C=CN=CC3   -7.7  -8.6   \n",
       "...                                                   ...    ...   ...   \n",
       "260150     ClC1=CC(S(=O)(=O)N2N=NC=3C2=CC=CC3)=C(OCC)C=C1   -7.5  -9.0   \n",
       "260151                     ClC=1C=CC(C(=O)NN=C2CCCC2)=CC1   -8.1  -8.6   \n",
       "260152  O=C1N(C(=O)N(C2=C3N(C(=C21)C4=CC=CC=C4)C=5C(N=...   -8.9 -10.3   \n",
       "260153  O=C(N1C=2C(C(=C1)C(OC)=O)=CC=CC2)C3=CC(=C(C=C3...   -9.6  -9.3   \n",
       "260154    O=C1NC[C@@H](N2C1=C(N=C2)C(=O)NC3=CC(=CC=C3)C)C   -8.4 -10.2   \n",
       "\n",
       "        ADAM17  ADRB1  ADRB2  AKT2  MAOB  CASP3  ...  GBA  MAPK1  MAPK14  \\\n",
       "0         -9.0   -9.3   -9.7  -8.7  -8.4   -7.2  ... -9.1   -9.3    -8.3   \n",
       "1         -7.0   -7.6   -7.7  -8.2  -6.3   -6.1  ... -8.0   -8.3    -6.9   \n",
       "2         -5.9   -7.0   -7.0  -7.1  -6.9   -5.5  ... -6.4   -7.1    -6.3   \n",
       "3        -11.0  -10.4  -11.5 -11.0  -3.3   -9.4  ... -9.3  -10.2    -8.8   \n",
       "4         -7.4   -8.4   -8.2  -7.7  -7.9   -6.2  ... -7.7   -8.0    -7.8   \n",
       "...        ...    ...    ...   ...   ...    ...  ...  ...    ...     ...   \n",
       "260150    -7.8   -8.1   -8.4  -7.8  -7.4   -6.9  ... -8.2   -8.3    -7.3   \n",
       "260151    -8.0   -8.1   -8.1  -7.3  -8.5   -6.3  ... -8.0   -7.6    -7.0   \n",
       "260152    -9.6  -11.5   -7.7  -8.9  -6.3   -8.9  ... -8.7   -8.8    -8.2   \n",
       "260153    -9.1   -9.3   -9.7  -8.0  -8.8   -7.9  ... -8.8   -8.6    -8.3   \n",
       "260154    -8.5   -8.5   -9.1  -8.8  -9.6   -7.7  ... -8.8   -8.6    -8.3   \n",
       "\n",
       "        PLK1  SRC  THRB   F2   KDR     logP       QED  \n",
       "0       -9.0 -8.4  -8.8 -8.2  -8.0  1.39450  0.463229  \n",
       "1       -8.6 -7.7  -8.1 -6.8  -7.4  1.21880  0.903457  \n",
       "2       -7.0 -6.2  -7.9 -5.8  -6.2  3.05760  0.770003  \n",
       "3      -10.4 -9.5  -7.4 -9.7 -11.4  4.59032  0.389416  \n",
       "4       -7.9 -6.8  -8.5 -6.6  -7.8  3.22990  0.632617  \n",
       "...      ...  ...   ...  ...   ...      ...       ...  \n",
       "260150  -8.2 -7.6  -8.7 -7.8  -7.8  2.72040  0.731436  \n",
       "260151  -8.2 -7.0  -8.3 -7.2  -8.2  2.99980  0.788400  \n",
       "260152 -10.9 -9.1  -6.3 -9.2  -7.5  4.68052  0.388036  \n",
       "260153  -9.2 -8.7 -11.1 -7.7  -7.0  3.73324  0.677728  \n",
       "260154  -8.7 -8.1  -9.7 -8.0  -8.9  1.74822  0.881750  \n",
       "\n",
       "[260155 rows x 62 columns]"
      ]
     },
     "execution_count": 3,
     "metadata": {},
     "output_type": "execute_result"
    }
   ],
   "source": [
    "df = pd.read_csv(\"../data/dockstring-excape/dockstring-dataset-extra-props.tsv\", sep=\"\\t\")\n",
    "df"
   ]
  },
  {
   "cell_type": "code",
   "execution_count": 4,
   "id": "43bf798d-b8e6-4b77-bcde-e4a5666adeae",
   "metadata": {},
   "outputs": [
    {
     "data": {
      "text/plain": [
       "{'KIT': -10.7, 'PARP1': -12.1, 'PGR': -10.1}"
      ]
     },
     "execution_count": 4,
     "metadata": {},
     "output_type": "execute_result"
    }
   ],
   "source": [
    "cutoffs = dict(KIT=-10.7, PARP1=-12.1, PGR=-10.1)\n",
    "cutoffs"
   ]
  },
  {
   "cell_type": "code",
   "execution_count": 5,
   "id": "bebac0e3-5a7d-4eda-8b1f-70c5a072a5bc",
   "metadata": {},
   "outputs": [],
   "source": [
    "# Find active and inactive sets\n",
    "active_sets = collections.defaultdict(set)\n",
    "for _, row in df.iterrows():\n",
    "    for name, c in cutoffs.items():\n",
    "        if row[name] <= c:\n",
    "            active_sets[name].add(str(row[\"inchikey\"]))"
   ]
  },
  {
   "cell_type": "code",
   "execution_count": 6,
   "id": "1695aafc-6581-4cc7-a2d9-427ee46baf34",
   "metadata": {},
   "outputs": [],
   "source": [
    "# Shortcut for analysis: inchikey to SMILES\n",
    "inchi2smiles = {str(row[\"inchikey\"]): str(row[\"smiles\"]) for _, row in df.iterrows()}"
   ]
  },
  {
   "cell_type": "markdown",
   "id": "05b46fd6-6e3a-44e6-b6a4-ee9ff8935906",
   "metadata": {},
   "source": [
    "# Next step:\n",
    "\n",
    "Actually run the nearest neighbour calculations with the `find_dockstring_nearest_neighbours.py` script.\n",
    "\n",
    "# Shortlist all molecules whose nearest neighbour is active:"
   ]
  },
  {
   "cell_type": "code",
   "execution_count": 7,
   "id": "136e1987-3246-48a3-a4bb-2d85f054a6ca",
   "metadata": {},
   "outputs": [],
   "source": [
    "zinc_NN_results_path = Path(\"../data/zinc-dockstring-nearest-neighbours/\")\n",
    "zinc_NN_shortlist_path = cache_dir / \"mols_with_active_neighbour.json\""
   ]
  },
  {
   "cell_type": "code",
   "execution_count": 8,
   "id": "109da242-0fc4-457c-9346-dbf38db2e0ab",
   "metadata": {},
   "outputs": [
    {
     "name": "stderr",
     "output_type": "stream",
     "text": [
      "100%|██████████| 4988/4988 [09:21<00:00,  8.88it/s]\n"
     ]
    }
   ],
   "source": [
    "# If this directory exists, write the summary results\n",
    "if zinc_NN_results_path.exists():\n",
    "    \n",
    "    zinc_id_shortlists = collections.defaultdict(list)\n",
    "    for fname in tqdm(list(zinc_NN_results_path.glob(\"*.csv*\"))):\n",
    "        df_z = pd.read_csv(fname)\n",
    "\n",
    "        for name, actives in active_sets.items():\n",
    "            df_actives = df_z[df_z[\"NN_inchi\"].isin(actives)]\n",
    "            zinc_id_shortlists[name].extend(df_actives.to_dict('records'))\n",
    "            del df_actives\n",
    "    \n",
    "    # Dump the results to plain text...\n",
    "    with open(zinc_NN_shortlist_path, \"w\") as f_out:\n",
    "        json.dump(zinc_id_shortlists, f_out, indent=1)\n",
    "        \n",
    "    del zinc_id_shortlists"
   ]
  },
  {
   "cell_type": "code",
   "execution_count": 9,
   "id": "0170c91c-4d88-496d-bb8f-4a0b98165244",
   "metadata": {},
   "outputs": [],
   "source": [
    "with open(zinc_NN_shortlist_path) as f_in:\n",
    "    zinc_id_shortlists = json.load(f_in)"
   ]
  },
  {
   "cell_type": "markdown",
   "id": "fb33883c-ca67-4215-9adf-84c12b10b486",
   "metadata": {},
   "source": [
    "# Some analysis:"
   ]
  },
  {
   "cell_type": "code",
   "execution_count": 10,
   "id": "daa060df-5d5e-4703-8cab-794d5752ca09",
   "metadata": {},
   "outputs": [
    {
     "name": "stdout",
     "output_type": "stream",
     "text": [
      "How many potential actives for each?\n",
      "\tPGR: 2246478\n",
      "\tKIT: 946768\n",
      "\tPARP1: 1050799\n"
     ]
    }
   ],
   "source": [
    "print(\"How many potential actives for each?\")\n",
    "for name, l in zinc_id_shortlists.items():\n",
    "    print(f\"\\t{name}: {len(l)}\")"
   ]
  },
  {
   "cell_type": "code",
   "execution_count": 11,
   "id": "ba7af64c-d681-4c20-af44-4f3904adbfc3",
   "metadata": {},
   "outputs": [
    {
     "name": "stdout",
     "output_type": "stream",
     "text": [
      "How many molecules with similarity 1 to the training set (actives)?\n",
      "\tPGR: 553\n",
      "\tKIT: 358\n",
      "\tPARP1: 369\n"
     ]
    }
   ],
   "source": [
    "print(\"How many molecules with similarity 1 to the training set (actives)?\")\n",
    "for name, l in zinc_id_shortlists.items():\n",
    "    n = sum(1 for d in l if d[\"NN_dist\"] >= 1.0)\n",
    "    print(f\"\\t{name}: {n}\")"
   ]
  },
  {
   "cell_type": "code",
   "execution_count": 12,
   "id": "2b2d60f8-b44f-4646-88b1-d610077c88a1",
   "metadata": {},
   "outputs": [
    {
     "name": "stdout",
     "output_type": "stream",
     "text": [
      "Exclude mols with sim 1, how close is the 5000th best molecule?\n",
      "\tPGR: 0.911\n",
      "\tKIT: 0.849\n",
      "\tPARP1: 0.888\n"
     ]
    }
   ],
   "source": [
    "n = 5000\n",
    "print(f\"Exclude mols with sim 1, how close is the {n}th best molecule?\")\n",
    "for name, l in zinc_id_shortlists.items():\n",
    "    l2 = [d for d in l if d[\"NN_dist\"] < 1.0]\n",
    "    l2 = sorted(l2, reverse=True, key=lambda d: d[\"NN_dist\"])\n",
    "    l2 = l2[:n]\n",
    "    print(f\"\\t{name}: {l2[-1]['NN_dist']:.3g}\")\n",
    "    del l2"
   ]
  },
  {
   "cell_type": "markdown",
   "id": "555ec728-b12f-4a71-ad0c-b4b149f46784",
   "metadata": {},
   "source": [
    "# Find the ZINC SMILES for these molecules"
   ]
  },
  {
   "cell_type": "code",
   "execution_count": 13,
   "id": "8ae7e9b6-24b2-4b5a-8387-3625ee501004",
   "metadata": {},
   "outputs": [
    {
     "data": {
      "text/plain": [
       "4118817"
      ]
     },
     "execution_count": 13,
     "metadata": {},
     "output_type": "execute_result"
    }
   ],
   "source": [
    "zinc_ids = set()\n",
    "for name, l in zinc_id_shortlists.items():\n",
    "    for d in l:\n",
    "        zinc_ids.add(d['zinc_id'])\n",
    "len(zinc_ids)"
   ]
  },
  {
   "cell_type": "code",
   "execution_count": 14,
   "id": "99a0336f-581a-47a1-a01f-66749ff92863",
   "metadata": {},
   "outputs": [
    {
     "name": "stderr",
     "output_type": "stream",
     "text": [
      "997597003it [11:22, 1461194.06it/s]\n"
     ]
    }
   ],
   "source": [
    "zinc_id_to_smiles = dict()\n",
    "with open(\"../data/zinc/zinc20-sorted.csv\") as f:\n",
    "    next(f)\n",
    "    for line_num, line in tqdm(enumerate(f)):\n",
    "        line = line.strip()\n",
    "        _comma_idx = line.index(\",\")\n",
    "        z_id = int(line[0:_comma_idx])\n",
    "        if z_id in zinc_ids:\n",
    "            zinc_id_to_smiles[z_id] = line[_comma_idx+1:]"
   ]
  },
  {
   "cell_type": "code",
   "execution_count": 15,
   "id": "fdcbf6b6-0402-4157-bffa-057508f76bf4",
   "metadata": {},
   "outputs": [
    {
     "data": {
      "text/plain": [
       "[(277, 'CC/N=C1\\\\Nc2ccc(Cl)cc2[C@](C)(c2ccccc2)O1'),\n",
       " (706, 'C[n+]1cc2c3c(ccc2c2ccc4cc5c(cc4c21)OCO5)OCO3'),\n",
       " (1364, 'C[C@@]12CCc3c4ccc(O)cc4ccc3[C@H]1CCC2=O'),\n",
       " (1738, 'O=C1c2cn3c(c2C(=O)c2ccccc21)Cc1ccccc1C3'),\n",
       " (3275, 'Nc1c2ccccc2nc2c1CCc1ccccc1-2')]"
      ]
     },
     "execution_count": 15,
     "metadata": {},
     "output_type": "execute_result"
    }
   ],
   "source": [
    "list(zinc_id_to_smiles.items())[:5]"
   ]
  },
  {
   "cell_type": "markdown",
   "id": "12291a8e-b8d2-4166-975d-7288f67d2207",
   "metadata": {},
   "source": [
    "# Try outputting these most similar mols to a file"
   ]
  },
  {
   "cell_type": "code",
   "execution_count": 16,
   "id": "af2e517a-6658-4fa6-bf3c-808f7ffdb885",
   "metadata": {},
   "outputs": [],
   "source": [
    "for name, l in zinc_id_shortlists.items():\n",
    "    l_sorted = sorted(l, reverse=True, key=lambda d: d[\"NN_dist\"])\n",
    "    with open(cache_dir / f\"top-v1-{name}.csv\", \"w\") as f:\n",
    "        f.write(\"\\n\".join(zinc_id_to_smiles[d[\"zinc_id\"]] for d in l_sorted[:5000]))"
   ]
  },
  {
   "cell_type": "markdown",
   "id": "afd34d91-d112-475f-92b7-7432a12ca4a7",
   "metadata": {},
   "source": [
    "# Now, dock these molecules (not done here, but the results are in the \"official results\" folder)\n",
    "\n",
    "# Input these molecules: what are the enrichment factors like?"
   ]
  },
  {
   "cell_type": "code",
   "execution_count": 19,
   "id": "85dd571c-1455-4740-9e52-43e68f899325",
   "metadata": {},
   "outputs": [
    {
     "name": "stdout",
     "output_type": "stream",
     "text": [
      "KIT: ef=239.2\n",
      "PARP1: ef=313.1\n",
      "PGR: ef=161.4\n"
     ]
    }
   ],
   "source": [
    "for name in cutoffs:\n",
    "    \n",
    "    tmp_df = pd.read_csv(cache_dir / f\"{name}_top-v1-{name}.csv\", header=None, names=[\"smiles\", \"docking\"])\n",
    "    \n",
    "    num_above = np.sum(tmp_df.docking.values <= cutoffs[name])\n",
    "    num_above_other = np.sum(tmp_df.docking.values <= cutoffs[other])\n",
    "    print(f\"{name}: ef={num_above/len(tmp_df) / 1e-3:.4g}\")#, ef_{other}={num_above_other/len(tmp_df) / 1e-3:.3g}\")"
   ]
  },
  {
   "cell_type": "code",
   "execution_count": 18,
   "id": "94eddb3f-8ac7-42b5-b73f-d950c3295db3",
   "metadata": {},
   "outputs": [
    {
     "data": {
      "image/png": "[encoded data removed]",
      "text/plain": [
       "<Figure size 432x288 with 1 Axes>"
      ]
     },
     "metadata": {
      "needs_background": "light"
     },
     "output_type": "display_data"
    },
    {
     "data": {
      "image/png": "[encoded data removed]",
      "text/plain": [
       "<Figure size 432x288 with 1 Axes>"
      ]
     },
     "metadata": {
      "needs_background": "light"
     },
     "output_type": "display_data"
    },
    {
     "data": {
      "image/png": "[encoded data removed]",
      "text/plain": [
       "<Figure size 432x288 with 1 Axes>"
      ]
     },
     "metadata": {
      "needs_background": "light"
     },
     "output_type": "display_data"
    }
   ],
   "source": [
    "# Visualize the distribution\n",
    "for name in cutoffs:\n",
    "    \n",
    "    tmp_df = pd.read_csv(cache_dir / f\"{name}_top-v1-{name}.csv\", header=None, names=[\"smiles\", \"docking\"])\n",
    "    \n",
    "    plt.hist(tmp_df.docking.values, bins=25)\n",
    "    plt.axvline(cutoffs[name], linestyle=\"--\", color=\"k\")\n",
    "    plt.yscale(\"log\")\n",
    "    plt.title(name)\n",
    "    plt.show()"
   ]
  },
  {
   "cell_type": "code",
   "execution_count": null,
   "id": "c244a6e4-9124-4905-ae27-71d3d0814a24",
   "metadata": {},
   "outputs": [],
   "source": []
  }
 ],
 "metadata": {
  "kernelspec": {
   "display_name": "Python 3",
   "language": "python",
   "name": "python3"
  },
  "language_info": {
   "codemirror_mode": {
    "name": "ipython",
    "version": 3
   },
   "file_extension": ".py",
   "mimetype": "text/x-python",
   "name": "python",
   "nbconvert_exporter": "python",
   "pygments_lexer": "ipython3",
   "version": "3.7.10"
  },
  "toc-autonumbering": false,
  "toc-showcode": true,
  "toc-showmarkdowntxt": false
 },
 "nbformat": 4,
 "nbformat_minor": 5
}
